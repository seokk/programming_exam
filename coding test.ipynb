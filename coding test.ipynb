{
 "cells": [
  {
   "cell_type": "code",
   "execution_count": 1,
   "metadata": {
    "collapsed": true
   },
   "outputs": [],
   "source": [
    "n = 1234"
   ]
  },
  {
   "cell_type": "code",
   "execution_count": 6,
   "metadata": {},
   "outputs": [
    {
     "data": {
      "text/plain": [
       "[1, 2, 3, 4]"
      ]
     },
     "execution_count": 6,
     "metadata": {},
     "output_type": "execute_result"
    }
   ],
   "source": [
    "# 1번 문제\n",
    "def solution(n):\n",
    "    answer = 0\n",
    "    lst = [int(i) for i in str(n)]\n",
    "    for i in range(len(lst)):\n",
    "        answer += lst[i]\n",
    "    return answer"
   ]
  },
  {
   "cell_type": "code",
   "execution_count": null,
   "metadata": {
    "collapsed": true
   },
   "outputs": [],
   "source": [
    "# 2번 문제 https://latte-is-horse.tistory.com/106\n",
    "# https://eda-ai-lab.tistory.com/492\n",
    "# 단순 방식\n",
    "def solution(s):\n",
    "    idx = 0\n",
    "    while idx >= 0 and idx < len(s) - 1: # 문자열보다 인덱스가 작다면 인덱스 크기를 증가 시킨다\n",
    "        idx += 1\n",
    "        if s[idx - 1] == s[idx]: # 현재 문자와 이전문자 비교\n",
    "            s = s[:idx - 1] + s[idx + 1:]  # 서로 같다면 처음부터 인덱스전까지 + 인덱스부터 그다음 문자 -> s에 넣는다 (제거한 값을 저장)\n",
    "            idx = 0\n",
    "\n",
    "    return 0 if len(s) else 1"
   ]
  },
  {
   "cell_type": "code",
   "execution_count": null,
   "metadata": {
    "collapsed": true
   },
   "outputs": [],
   "source": [
    "# 2번 문제 (스택활용)\n",
    "def solution(s):\n",
    "    if len(s) % 2 == 1: return 0 # 문자가 홀수개면 무조건 남는다.\n",
    "    if len(s) == 2: # 문자가 2개이고, 같은 문자라면 무조건 가능\n",
    "        return 1 if s[0] == s[1] else 0\n",
    "    \n",
    "    stack = [s[0], s[1]]\n",
    "    \n",
    "    for v in s[2:]:\n",
    "        stack.append(v)\n",
    "        if len(stack) >= 2 and stack[-1] == stack[-2]:\n",
    "            stack.pop()\n",
    "            stack.pop()\n",
    "            \n",
    "    return 0 if len(stack) else 1"
   ]
  },
  {
   "cell_type": "code",
   "execution_count": 16,
   "metadata": {
    "collapsed": true
   },
   "outputs": [],
   "source": [
    "def solution(s):\n",
    "    if len(s) % 2 == 1: return 0 # 문자가 홀수개면 무조건 남는다.\n",
    "    if len(s) == 2: # 문자가 2개이고, 같은 문자라면 무조건 가능\n",
    "        return 1 if s[0] == s[1] else 0\n",
    "    stack = [s[0]]  # 'a'\n",
    "    \n",
    "    for val in s[1:]:\n",
    "        if len(stack) > 0 and stack[-1] == val # 스택이 비어있지 않고 스택의 가장 마지막 값과 값이 동일하다면\n",
    "            stack.pop()\n",
    "        else :\n",
    "            stack.append(val)\n",
    "    \n",
    "    return 0 if len(stack) else 1"
   ]
  },
  {
   "cell_type": "code",
   "execution_count": 18,
   "metadata": {},
   "outputs": [
    {
     "data": {
      "text/plain": [
       "1"
      ]
     },
     "execution_count": 18,
     "metadata": {},
     "output_type": "execute_result"
    }
   ],
   "source": [
    "solution('aabbcffc')"
   ]
  },
  {
   "cell_type": "code",
   "execution_count": 7,
   "metadata": {
    "collapsed": true
   },
   "outputs": [],
   "source": [
    "stack = [1, 2]"
   ]
  },
  {
   "cell_type": "code",
   "execution_count": 10,
   "metadata": {},
   "outputs": [],
   "source": [
    "stack.append(3)"
   ]
  },
  {
   "cell_type": "code",
   "execution_count": 11,
   "metadata": {},
   "outputs": [
    {
     "data": {
      "text/plain": [
       "[1, 2, 3]"
      ]
     },
     "execution_count": 11,
     "metadata": {},
     "output_type": "execute_result"
    }
   ],
   "source": [
    "stack"
   ]
  },
  {
   "cell_type": "code",
   "execution_count": 13,
   "metadata": {},
   "outputs": [
    {
     "data": {
      "text/plain": [
       "3"
      ]
     },
     "execution_count": 13,
     "metadata": {},
     "output_type": "execute_result"
    }
   ],
   "source": [
    "stack.pop()"
   ]
  },
  {
   "cell_type": "code",
   "execution_count": 19,
   "metadata": {},
   "outputs": [
    {
     "data": {
      "text/plain": [
       "[1, 2]"
      ]
     },
     "execution_count": 19,
     "metadata": {},
     "output_type": "execute_result"
    }
   ],
   "source": [
    "stack"
   ]
  },
  {
   "cell_type": "code",
   "execution_count": 20,
   "metadata": {},
   "outputs": [
    {
     "data": {
      "text/plain": [
       "2"
      ]
     },
     "execution_count": 20,
     "metadata": {},
     "output_type": "execute_result"
    }
   ],
   "source": [
    "stack[-1]  # 가장 마지막."
   ]
  },
  {
   "cell_type": "code",
   "execution_count": null,
   "metadata": {
    "collapsed": true
   },
   "outputs": [],
   "source": [
    "def solution(s):\n",
    "    if len(s) % 2 == 1: return 0 # 문자가 홀수개면 무조건 남는다.\n",
    "    if len(s) == 2: # 문자가 2개이고, 같은 문자라면 무조건 가능\n",
    "        return 1 if s[0] == s[1] else 0\n",
    "            \n",
    "    stack = [s[0]]\n",
    "    "
   ]
  },
  {
   "cell_type": "code",
   "execution_count": null,
   "metadata": {
    "collapsed": true
   },
   "outputs": [],
   "source": [
    "# 3번문제\n",
    "def solution(A, B):\n",
    "    answer = 0\n",
    "    point = 0 \n",
    "    sortA = sorted(A) # A를 오름차순으로 정렬\n",
    "    sortB = sorted(B) # B를 오름차순으로 정렬\n",
    " \n",
    "    for i in sortA: # A 안에 수들을 순회하며\n",
    "        for j in sortB: # B 안에 수들을 순회하며\n",
    "            if i<j: # B의 값이 더 크면\n",
    "                point+=1 # point 를 1 증가시키고\n",
    "                sortB.remove(j) # 그 값을 B에서 지워준 후      # A[i]에 대응가능하면서 최소값의 숫자만 희생시키기 위함!!. 여기가 키포인트\n",
    "                break # 반복문을 끝낸다.\n",
    "    answer = point\n",
    " \n",
    "    return answer\n"
   ]
  },
  {
   "cell_type": "code",
   "execution_count": 63,
   "metadata": {
    "collapsed": true
   },
   "outputs": [],
   "source": [
    "def solution3(A, B):\n",
    "    answer = 0\n",
    "    \n",
    "    lstA = A\n",
    "    lstB = B\n",
    "    \n",
    "    sortA = sorted(lstA)\n",
    "    sortB = sorted(lstB)\n",
    "    print(sortA)\n",
    "    print(sortB)\n",
    "    for i in sortA:\n",
    "        print('i:', i)\n",
    "        for j in sortB:\n",
    "            print('j:', j)\n",
    "            if i < j :\n",
    "                #sortA.remove(i)\n",
    "                sortB.remove(j)   # 사용한 정답지만 제거하면 됨\n",
    "                answer += i < j\n",
    "    return answer"
   ]
  },
  {
   "cell_type": "code",
   "execution_count": 64,
   "metadata": {},
   "outputs": [
    {
     "name": "stdout",
     "output_type": "stream",
     "text": [
      "[1, 3, 5, 7]\n",
      "[1, 2, 6, 8]\n",
      "i: 1\n",
      "j: 1\n",
      "j: 2\n",
      "j: 8\n",
      "i: 3\n",
      "j: 1\n",
      "j: 6\n",
      "i: 5\n",
      "j: 1\n",
      "i: 7\n",
      "j: 1\n"
     ]
    },
    {
     "data": {
      "text/plain": [
       "3"
      ]
     },
     "execution_count": 64,
     "metadata": {},
     "output_type": "execute_result"
    }
   ],
   "source": [
    "solution3([5,1,3,7], [2,1,6,8])"
   ]
  },
  {
   "cell_type": "code",
   "execution_count": 47,
   "metadata": {},
   "outputs": [
    {
     "name": "stdout",
     "output_type": "stream",
     "text": [
      "i: 3\n",
      "j: 9\n",
      "j: 9\n",
      "i: 8\n",
      "j: 9\n"
     ]
    },
    {
     "data": {
      "text/plain": [
       "3"
      ]
     },
     "execution_count": 47,
     "metadata": {},
     "output_type": "execute_result"
    }
   ],
   "source": [
    "solution3([3,6,3,8], [9,9,9,9])"
   ]
  },
  {
   "cell_type": "code",
   "execution_count": null,
   "metadata": {
    "collapsed": true
   },
   "outputs": [],
   "source": [
    "# 제출답안\n",
    "def solution(A, B):\n",
    "    answer = 0\n",
    "    sortA = sorted(A)\n",
    "    sortB = sorted(B)\n",
    "    for i in sortA:\n",
    "        for j in sortB:\n",
    "            if i < j :\n",
    "                #sortA.remove(i)\n",
    "                sortB.remove(j)\n",
    "                answer += i < j\n",
    "                break;\n",
    "    return answer"
   ]
  }
 ],
 "metadata": {
  "kernelspec": {
   "display_name": "Python 3",
   "language": "python",
   "name": "python3"
  },
  "language_info": {
   "codemirror_mode": {
    "name": "ipython",
    "version": 3
   },
   "file_extension": ".py",
   "mimetype": "text/x-python",
   "name": "python",
   "nbconvert_exporter": "python",
   "pygments_lexer": "ipython3",
   "version": "3.6.3"
  }
 },
 "nbformat": 4,
 "nbformat_minor": 2
}
